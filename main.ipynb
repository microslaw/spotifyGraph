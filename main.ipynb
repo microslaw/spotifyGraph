{
 "cells": [
  {
   "cell_type": "code",
   "execution_count": 22,
   "metadata": {},
   "outputs": [],
   "source": [
    "import faker\n",
    "import pandas as pd\n",
    "import numpy as np\n",
    "\n",
    "fake = faker.Faker()\n",
    "\n",
    "faker.Faker.seed(12)\n",
    "\n",
    "data_dir = 'data'"
   ]
  },
  {
   "cell_type": "code",
   "execution_count": 23,
   "metadata": {},
   "outputs": [],
   "source": [
    "df_person = pd.DataFrame()\n",
    "people_count = 15\n",
    "\n",
    "df_person[\"day_of_birth\"] = [fake.date_of_birth(minimum_age=18, maximum_age=60) for _ in range(people_count)]\n",
    "df_person['gender'] = np.random.choice(['Male', 'Female'], people_count)\n",
    "df_person[\"name\"] = df_person[\"gender\"].apply(lambda x: fake.first_name_male() if x == \"Male\" else fake.first_name_female())\n",
    "df_person[\"surname\"] = df_person.apply(lambda x: fake.last_name(), axis=1)\n",
    "df_person = df_person.reset_index()\n",
    "\n",
    "df_person.to_csv(f\"{data_dir}/person.csv\", index=False)"
   ]
  },
  {
   "cell_type": "code",
   "execution_count": 24,
   "metadata": {},
   "outputs": [],
   "source": [
    "df_artists = pd.DataFrame()\n",
    "artists_count = 4\n",
    "\n",
    "df_artists[\"index\"] = np.random.choice(df_person[\"index\"], artists_count, replace=False)\n",
    "df_artists[\"nickname\"] = df_artists[\"index\"].apply(lambda _: fake.user_name())\n",
    "\n",
    "df_artists.to_csv(f\"{data_dir}/artists.csv\", index=False)"
   ]
  },
  {
   "cell_type": "code",
   "execution_count": 25,
   "metadata": {},
   "outputs": [],
   "source": [
    "df_songs = pd.DataFrame()\n",
    "songs_count = 20\n",
    "\n",
    "df_songs[\"title\"] = [fake.sentence(nb_words=3).strip(\".\") for _ in range(songs_count)]\n",
    "df_songs[\"genre\"] = np.random.choice(['Rock', 'Pop', 'Rap', 'Jazz', 'Blues'], songs_count)\n",
    "df_songs[\"duration\"] = np.random.randint(low=60, high=300, size=songs_count,)\n",
    "df_songs[\"release_date\"] = df_songs.apply(lambda _: fake.date_this_decade(), axis=1)\n",
    "df_songs = df_songs.reset_index()\n",
    "\n",
    "df_songs.to_csv(f\"{data_dir}/songs.csv\", index=False)"
   ]
  },
  {
   "cell_type": "code",
   "execution_count": 26,
   "metadata": {},
   "outputs": [],
   "source": [
    "df_follows = pd.DataFrame()\n",
    "follows_count = 30\n",
    "\n",
    "df_follows[\"id_follower\"] = np.random.choice(df_person[\"index\"], follows_count, replace=True)\n",
    "df_follows[\"id_followed\"] = np.random.choice(df_person[\"index\"], follows_count, replace=True)\n",
    "df_follows[\"since\"] = df_follows.apply(lambda _: fake.date_this_decade(), axis=1)\n",
    "df_follows = df_follows[df_follows[\"id_follower\"] != df_follows[\"id_followed\"]]\n",
    "\n",
    "df_follows.to_csv(f\"{data_dir}/follows.csv\", index=False)"
   ]
  },
  {
   "cell_type": "code",
   "execution_count": 27,
   "metadata": {},
   "outputs": [],
   "source": [
    "df_rates = pd.DataFrame()\n",
    "rates_count = 50\n",
    "\n",
    "df_rates[\"id_person\"] = np.random.choice(df_person[\"index\"], rates_count, replace=True)\n",
    "df_rates[\"id_song\"] = np.random.choice(df_songs[\"index\"], rates_count, replace=True)\n",
    "df_rates[\"timestamp\"] = df_rates.apply(lambda _: fake.date_this_decade(), axis=1)\n",
    "df_rates[\"rate\"] = np.random.randint(1, 10, rates_count)\n",
    "\n",
    "df_rates.to_csv(f\"{data_dir}/rates.csv\", index=False)\n"
   ]
  },
  {
   "cell_type": "code",
   "execution_count": 28,
   "metadata": {},
   "outputs": [],
   "source": [
    "df_written = pd.DataFrame()\n",
    "written_count = int(len(df_songs) * 1.1) # 10% more authors than songs, to have some songs with multiple authors\n",
    "\n",
    "df_written[\"id_artist\"] = np.random.choice(df_artists[\"index\"], written_count, replace=True)\n",
    "df_written[\"id_song\"] = np.random.choice(df_songs[\"index\"], written_count, replace=True)\n",
    "df_written = df_written.drop_duplicates()\n",
    "\n",
    "df_written.to_csv(f\"{data_dir}/written.csv\", index=False)"
   ]
  }
 ],
 "metadata": {
  "kernelspec": {
   "display_name": "Python 3",
   "language": "python",
   "name": "python3"
  },
  "language_info": {
   "codemirror_mode": {
    "name": "ipython",
    "version": 3
   },
   "file_extension": ".py",
   "mimetype": "text/x-python",
   "name": "python",
   "nbconvert_exporter": "python",
   "pygments_lexer": "ipython3",
   "version": "3.12.2"
  }
 },
 "nbformat": 4,
 "nbformat_minor": 2
}
